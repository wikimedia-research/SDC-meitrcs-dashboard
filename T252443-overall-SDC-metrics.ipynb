{
 "cells": [
  {
   "cell_type": "markdown",
   "id": "b5281cf6-bd83-4c32-9cfe-3c9af9e46022",
   "metadata": {},
   "source": [
    "# Overall Strctured Data on Commons metrics"
   ]
  },
  {
   "cell_type": "markdown",
   "id": "bc24d77e-d668-45bc-9dd7-7655ab17086e",
   "metadata": {},
   "source": [
    "[T252443](https://phabricator.wikimedia.org/T252443)"
   ]
  },
  {
   "cell_type": "markdown",
   "id": "c8edbf74-5525-43c4-a142-0ca8bfca8d4b",
   "metadata": {},
   "source": [
    "This set of metrics is aiming to understand growth of structured data over time. Including:\n",
    "- Number of files with at least one structured data element\n",
    "- Number of files with license\n",
    "- Number of files with depicts\n",
    "- Number of files with captions (en vs. non-en vs. both)\n",
    "- Total number of content pages on Commons (to calculate % in Superset)\n",
    "\n"
   ]
  },
  {
   "cell_type": "markdown",
   "id": "7dd88d5c-b2ac-4a1d-8cc1-e8cb3e27357e",
   "metadata": {},
   "source": [
    "### Notes"
   ]
  },
  {
   "cell_type": "markdown",
   "id": "f3866814-acf8-45b9-9416-fdc07e21b5fc",
   "metadata": {},
   "source": [
    "We aggregate metrics on a monthly basis using data from the `structured_data.commons_entity` table, which is a conversion of the commonswiki structured-data entities JSON dumps in parquet. \n",
    "`commons_entity` table has the data back to 2021-12-27 and updated weekly. We take the last snapshot of every month to do the monthly aggregation. \n",
    "\n",
    "Captions stored in `lables` field, and each language stored as a key. Example: {\"fr\":\"\\\"bois fossile : Madagascar\\\"\"}.\n",
    "Entity properties like depicts(P180) and license(P275) are in `statements` field. "
   ]
  },
  {
   "cell_type": "code",
   "execution_count": 1,
   "id": "5535b125-69d8-42ba-bbb6-b7b70e78385d",
   "metadata": {},
   "outputs": [
    {
     "name": "stderr",
     "output_type": "stream",
     "text": [
      "You are using wmfdata v1.3.1, but v1.3.3 is available.\n",
      "\n",
      "To update, run `pip install --upgrade git+https://github.com/wikimedia/wmfdata-python.git@release --ignore-installed`.\n",
      "\n",
      "To see the changes, refer to https://github.com/wikimedia/wmfdata-python/blob/release/CHANGELOG.md\n"
     ]
    }
   ],
   "source": [
    "import datetime as dt\n",
    "import pandas as pd\n",
    "import numpy as np\n",
    "\n",
    "from wmfdata import hive, spark"
   ]
  },
  {
   "cell_type": "markdown",
   "id": "7ca00e70-cf43-45e5-bcbd-cc07311af88d",
   "metadata": {},
   "source": [
    "### Configuration Timestamps"
   ]
  },
  {
   "cell_type": "code",
   "execution_count": 2,
   "id": "cb7f87a9-90a6-4929-9882-af330bee4de3",
   "metadata": {},
   "outputs": [],
   "source": [
    "wmf_snapshot = '2021-12'\n",
    "entity_snapshot = '2021-12-27'"
   ]
  },
  {
   "cell_type": "markdown",
   "id": "f0a82dcc-ba1b-405e-83db-c758fcace3ed",
   "metadata": {},
   "source": [
    "### Aggregation Tables\n"
   ]
  },
  {
   "cell_type": "markdown",
   "id": "4f686f52-2404-4a0d-9d86-c3516430b2df",
   "metadata": {},
   "source": [
    "We define a set of tables in the Data Lake for aggregation of results.\n"
   ]
  },
  {
   "cell_type": "code",
   "execution_count": 2,
   "id": "6edb8033-a1a7-4592-bd45-efb82f689b8a",
   "metadata": {},
   "outputs": [],
   "source": [
    "overall_table = 'cchen_sd.sdc_count_overall'"
   ]
  },
  {
   "cell_type": "code",
   "execution_count": 3,
   "id": "2f5bf2e8-4009-4c10-abfc-4cbd84ad2b62",
   "metadata": {},
   "outputs": [],
   "source": [
    "create_table_query = '''\n",
    "CREATE TABLE IF NOT EXISTS {table_name} (\n",
    "    month DATE COMMENT \"the month of the aggregated sdc total counts\",\n",
    "    commons_total_count BIGINT COMMENT \"total content pages on wiki commons\",\n",
    "    sdc_total_count BIGINT COMMENT \"number of files with at least one structured data element\",\n",
    "    caption_total_count BIGINT COMMENT \"number of files with at least one caption\",\n",
    "    en_caption_count BIGINT COMMENT \"number of files with english caption\",\n",
    "    non_en_caption_count BIGINT COMMENT \"number of files with non-english caption\",\n",
    "    both_caption_count BIGINT COMMENT \"number of files with both captions\",\n",
    "    depict_total_count BIGINT COMMENT \"number of files with depicts\",\n",
    "    license_total_count BIGINT COMMENT \"number of files with license\"\n",
    ")\n",
    "'''"
   ]
  },
  {
   "cell_type": "code",
   "execution_count": 4,
   "id": "9764f64f-8141-4f43-91bb-13ebc536c99d",
   "metadata": {},
   "outputs": [],
   "source": [
    "hive.run(create_table_query.format(\n",
    "            table_name = overall_table\n",
    "))"
   ]
  },
  {
   "cell_type": "markdown",
   "id": "44521770-e4f8-4837-ad6d-d7763a33b6a6",
   "metadata": {},
   "source": [
    "### Overall structured data count"
   ]
  },
  {
   "cell_type": "code",
   "execution_count": 8,
   "id": "dd892431-1f48-4017-9c1c-942ba1bb4864",
   "metadata": {},
   "outputs": [],
   "source": [
    "overall_query = '''\n",
    "WITH captions AS (\n",
    "    SELECT\n",
    "        id, \n",
    "        ARRAY_CONTAINS(MAP_KEYS(labels),'en') AS en_caption, -- check if has english caption\n",
    "        SIZE(labels) AS captions_count\n",
    "    FROM structured_data.commons_entity \n",
    "    WHERE snapshot = \"{snapshot}\"\n",
    "),\n",
    "\n",
    "depict_license AS (\n",
    "    SELECT\n",
    "        id, \n",
    "        SUM(IF(st.mainsnak.property = \"P180\", 1, 0)) AS depicts_count, -- P180 depicts property\n",
    "        SUM(IF(st.mainsnak.property = \"P275\", 1, 0)) AS license_count  -- P275 license property\n",
    "    FROM structured_data.commons_entity \n",
    "         LATERAL VIEW explode(statements) exploded_table as st\n",
    "     WHERE snapshot = \"{snapshot}\"\n",
    "     GROUP BY id\n",
    "),\n",
    "\n",
    "total_sdc AS (\n",
    "    SELECT\n",
    "        ce.id,\n",
    "        en_caption,\n",
    "        captions_count,\n",
    "        depicts_count,\n",
    "        license_count\n",
    "   FROM structured_data.commons_entity ce\n",
    "      LEFT JOIN captions c ON ce.id = c.id\n",
    "      LEFT JOIN depict_license dl ON ce.id = dl.id\n",
    "    WHERE snapshot = \"{snapshot}\"\n",
    "),\n",
    "\n",
    "sdc_counts AS (\n",
    "    SELECT\n",
    "        '{wmf_snapshot}' AS month,\n",
    "        COUNT(DISTINCT(id)) AS sdc_total_count,\n",
    "        SUM(CASE WHEN captions_count>0 THEN 1 END) AS caption_total_count,\n",
    "        SUM(CASE WHEN en_caption THEN 1 END) AS en_caption_count,\n",
    "        SUM(CASE WHEN ((en_caption AND captions_count >1) OR (!en_caption AND captions_count > 0)) THEN 1 END) AS non_en_caption_count,\n",
    "        SUM(CASE WHEN en_caption AND captions_count >1 THEN 1 END) AS both_caption_count,\n",
    "        SUM(CASE WHEN depicts_count >0 THEN 1 END) AS depict_total_count,\n",
    "        SUM(CASE WHEN license_count >0 THEN 1 END) AS license_total_count\n",
    "    FROM total_sdc        \n",
    "),\n",
    "\n",
    "commons_content AS (\n",
    "    SELECT \n",
    "        snapshot AS month,\n",
    "        COUNT(DISTINCT page_id) AS commons_total_count\n",
    "FROM wmf.mediawiki_page_history\n",
    "WHERE snapshot = '{wmf_snapshot}'\n",
    "    AND wiki_db = 'commonswiki'\n",
    "    AND NOT page_is_deleted AND NOT page_is_redirect\n",
    "    AND page_namespace_is_content\n",
    "GROUP BY snapshot\n",
    ")\n",
    "\n",
    "INSERT INTO {aggregate_table}\n",
    "SELECT\n",
    "    CONCAT(c.month,'-01') AS month, \n",
    "    commons_total_count,\n",
    "    sdc_total_count,\n",
    "    caption_total_count,\n",
    "    en_caption_count,\n",
    "    non_en_caption_count,\n",
    "    both_caption_count,\n",
    "    depict_total_count,\n",
    "    license_total_count\n",
    "FROM sdc_counts s \n",
    "JOIN commons_content c ON s.month = c.month\n",
    "'''"
   ]
  },
  {
   "cell_type": "code",
   "execution_count": 10,
   "id": "94e739ba-6b9c-4665-8dad-5839eea0c1c5",
   "metadata": {},
   "outputs": [
    {
     "data": {
      "text/html": [
       "<div>\n",
       "<style scoped>\n",
       "    .dataframe tbody tr th:only-of-type {\n",
       "        vertical-align: middle;\n",
       "    }\n",
       "\n",
       "    .dataframe tbody tr th {\n",
       "        vertical-align: top;\n",
       "    }\n",
       "\n",
       "    .dataframe thead th {\n",
       "        text-align: right;\n",
       "    }\n",
       "</style>\n",
       "<table border=\"1\" class=\"dataframe\">\n",
       "  <thead>\n",
       "    <tr style=\"text-align: right;\">\n",
       "      <th></th>\n",
       "      <th>_col0</th>\n",
       "      <th>_col1</th>\n",
       "      <th>_col2</th>\n",
       "      <th>_col3</th>\n",
       "      <th>_col4</th>\n",
       "      <th>_col5</th>\n",
       "      <th>_col6</th>\n",
       "      <th>_col7</th>\n",
       "      <th>_col8</th>\n",
       "    </tr>\n",
       "  </thead>\n",
       "  <tbody>\n",
       "  </tbody>\n",
       "</table>\n",
       "</div>"
      ],
      "text/plain": [
       "Empty DataFrame\n",
       "Columns: [_col0, _col1, _col2, _col3, _col4, _col5, _col6, _col7, _col8]\n",
       "Index: []"
      ]
     },
     "execution_count": 10,
     "metadata": {},
     "output_type": "execute_result"
    }
   ],
   "source": [
    "hive.run(overall_query.format(\n",
    "    wmf_snapshot = wmf_snapshot,\n",
    "    snapshot = entity_snapshot,\n",
    "    aggregate_table = overall_table\n",
    "))"
   ]
  }
 ],
 "metadata": {
  "kernelspec": {
   "display_name": "Python 3 (ipykernel)",
   "language": "python",
   "name": "python3"
  },
  "language_info": {
   "codemirror_mode": {
    "name": "ipython",
    "version": 3
   },
   "file_extension": ".py",
   "mimetype": "text/x-python",
   "name": "python",
   "nbconvert_exporter": "python",
   "pygments_lexer": "ipython3",
   "version": "3.7.11"
  }
 },
 "nbformat": 4,
 "nbformat_minor": 5
}
